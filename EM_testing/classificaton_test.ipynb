{
 "cells": [
  {
   "cell_type": "code",
   "execution_count": 1,
   "metadata": {},
   "outputs": [],
   "source": [
    "import pandas as pd\n",
    "from sklearn.model_selection import train_test_split"
   ]
  },
  {
   "cell_type": "code",
   "execution_count": 2,
   "metadata": {},
   "outputs": [
    {
     "name": "stdout",
     "output_type": "stream",
     "text": [
      "                                         DESCRIPTION      TYPE\n",
      "0    Survey of Inland Barge (Under 6KM/T) at Minimum  QUANTITY\n",
      "1    Survey of Inland Barge (Under 6KM/T) at Minimum  QUANTITY\n",
      "2                        Survey of Inland Barge Fees  QUANTITY\n",
      "3                             Survey of Inland Barge  QUANTITY\n",
      "4                            Survey of Inland Barges  QUANTITY\n",
      "..                                               ...       ...\n",
      "423     Gravity by Digital Densiometer (ASTM D-4052)   quality\n",
      "424                   Refractive Index (ASTM D-1747)   quality\n",
      "425                      Color, Saybolt (ASTM D-156)   quality\n",
      "426             Flash Point, PMCC (ASTM D-93 A or B)   quality\n",
      "427                         Distillation (ASTM D-86)   quality\n",
      "\n",
      "[428 rows x 2 columns]\n"
     ]
    }
   ],
   "source": [
    "df=pd.read_csv(r'/datadrive/EM_testing/ExtractCustomFields/test_classification.csv')\n",
    "print(df)"
   ]
  },
  {
   "cell_type": "code",
   "execution_count": 3,
   "metadata": {},
   "outputs": [],
   "source": [
    "x=df['DESCRIPTION']\n",
    "y=df['TYPE'].str.upper()\n",
    "x_train,x_test,y_train,y_test=train_test_split(x,y,test_size=0.2,random_state=42)"
   ]
  },
  {
   "cell_type": "code",
   "execution_count": 4,
   "metadata": {},
   "outputs": [],
   "source": [
    "from sklearn.feature_extraction.text import TfidfVectorizer\n",
    "vectorizer=TfidfVectorizer()\n",
    "x_train_vec=vectorizer.fit_transform(x_train)\n",
    "x_test_vec=vectorizer.transform(x_test)"
   ]
  },
  {
   "cell_type": "code",
   "execution_count": 5,
   "metadata": {},
   "outputs": [
    {
     "data": {
      "text/plain": [
       "SVC()"
      ]
     },
     "execution_count": 5,
     "metadata": {},
     "output_type": "execute_result"
    }
   ],
   "source": [
    "from sklearn.svm import SVC\n",
    "svm_model=SVC()\n",
    "svm_model.fit(x_train_vec,y_train)"
   ]
  },
  {
   "cell_type": "code",
   "execution_count": 6,
   "metadata": {},
   "outputs": [
    {
     "name": "stdout",
     "output_type": "stream",
     "text": [
      "Accurecy: 0.9651162790697675\n",
      "              precision    recall  f1-score   support\n",
      "\n",
      "     QUALITY       0.94      1.00      0.97        47\n",
      "    QUANTITY       1.00      0.92      0.96        39\n",
      "\n",
      "    accuracy                           0.97        86\n",
      "   macro avg       0.97      0.96      0.96        86\n",
      "weighted avg       0.97      0.97      0.96        86\n",
      "\n"
     ]
    }
   ],
   "source": [
    "from sklearn.metrics import accuracy_score,classification_report\n",
    "y_pred=svm_model.predict(x_test_vec)\n",
    "accurecy=accuracy_score(y_test,y_pred)\n",
    "print(f'Accurecy: {accurecy}')\n",
    "print(classification_report(y_test,y_pred))"
   ]
  },
  {
   "cell_type": "code",
   "execution_count": 12,
   "metadata": {},
   "outputs": [
    {
     "name": "stdout",
     "output_type": "stream",
     "text": [
      "['QUANTITY']\n"
     ]
    }
   ],
   "source": [
    "new_txt=['I-Inland Barge - Products & Feedstocks (per Barge) (per <6 K MT)']\n",
    "new_txt_vec=vectorizer.transform(new_txt)\n",
    "new_pre=svm_model.predict(new_txt_vec)\n",
    "print(new_pre)\n"
   ]
  },
  {
   "cell_type": "code",
   "execution_count": null,
   "metadata": {},
   "outputs": [],
   "source": []
  }
 ],
 "metadata": {
  "kernelspec": {
   "display_name": "hand_gpu",
   "language": "python",
   "name": "python3"
  },
  "language_info": {
   "codemirror_mode": {
    "name": "ipython",
    "version": 3
   },
   "file_extension": ".py",
   "mimetype": "text/x-python",
   "name": "python",
   "nbconvert_exporter": "python",
   "pygments_lexer": "ipython3",
   "version": "3.7.11"
  },
  "orig_nbformat": 4
 },
 "nbformat": 4,
 "nbformat_minor": 2
}
