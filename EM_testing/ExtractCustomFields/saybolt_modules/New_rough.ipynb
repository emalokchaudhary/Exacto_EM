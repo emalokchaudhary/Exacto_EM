{
 "cells": [
  {
   "cell_type": "code",
   "execution_count": 8,
   "metadata": {},
   "outputs": [
    {
     "name": "stdout",
     "output_type": "stream",
     "text": [
      "yes\n",
      "[[['Liters 15°C', '1,245,014', '1,245,014'], ['Barrels 60°F', '7,835'], ['Metric Tons Vac', '1,098.645', '1,098.645'], ['Metric Tons Air', '1,097.276', '1,097.276']]]\n",
      "[{'Liters 15°C': 1245014.0, 'Barrels 60°F': 7835.0, 'Metric Tons Vac': 1098.645, 'Metric Tons Air': 1097.276}]\n"
     ]
    }
   ],
   "source": [
    "import re\n",
    "path = open(r'/datadrive/EM_Product/ips/invoiceProduct_solution/EM_output/Saybolt/EU/16001030010713/FullReport1030400003693.text')\n",
    "doc = path.readlines()\n",
    "lst = []\n",
    "dictlist = []\n",
    "for i,line in enumerate(doc):\n",
    "        loading = []\n",
    "        match = re.search('\\s\\s+(Summary Discharge [(]GSV[)])',line)\n",
    "        # match1 = re.search('\\s\\s+(Summary Discharge [(]GSV[)])',line)\n",
    "        if match:\n",
    "            print('yes')\n",
    "            for j in range(i+15,len(doc)):\n",
    "                search1 = re.search('\\s*(Density).*',doc[j])\n",
    "                if not search1:\n",
    "                    doc[j] = re.sub('\\n','',doc[j])\n",
    "                    if len(doc[j].split())>0:\n",
    "                        doclst = re.split('\\s+[*]\\s+|\\s\\s+',doc[j])\n",
    "                        # print(doclst)\n",
    "                        loading.append(doclst)\n",
    "                    # print(doc[j])\n",
    "                if search1:\n",
    "                    break\n",
    "            lst.append(loading)\n",
    "print(lst)\n",
    "\n",
    "for val in lst:\n",
    "        finaldict = {}\n",
    "        for line in val:\n",
    "            if len(line)>2:\n",
    "                line[1] = re.sub(',','',line[1])\n",
    "                line[2] = re.sub(',','',line[2])\n",
    "            if len(line)<=2:\n",
    "                 line[1] = re.sub(',','',line[1])\n",
    "            try:\n",
    "                if len(line)>2:\n",
    "                    finaldict[line[0]] = float(line[2])\n",
    "                if len(line)<=2:\n",
    "                     finaldict[line[0]] = float(line[1])\n",
    "            except:\n",
    "                pass\n",
    "        dictlist.append(finaldict)\n",
    "print(dictlist)"
   ]
  },
  {
   "cell_type": "code",
   "execution_count": 17,
   "metadata": {},
   "outputs": [
    {
     "name": "stdout",
     "output_type": "stream",
     "text": [
      "Yes\n"
     ]
    }
   ],
   "source": [
    "path1 = open(r'/datadrive/EM_Product/ips/invoiceProduct_solution/EM_output/Saybolt/EU/16001200069379/FullReport1200400127982.text')\n",
    "read = path1.readlines()\n",
    "\n",
    "# print(read)\n",
    "match4 = re.search('(Outturn date:)\\s*\\w*\\s*\\w*\\s*\\w*\\s\\s+(Summary Discharge [(]GSV[)])|(Outturn date:)\\w*\\s\\s+(Summary Discharge [(]GSV[)])',read)\n",
    "if match4:\n",
    "    print('Yes')\n",
    "else:\n",
    "    print('No')"
   ]
  },
  {
   "cell_type": "code",
   "execution_count": 30,
   "metadata": {},
   "outputs": [
    {
     "name": "stdout",
     "output_type": "stream",
     "text": [
      "['ULSD', 'Mogas 95 , ULSD', 'Mogas 95']\n"
     ]
    }
   ],
   "source": [
    "import re\n",
    "path2 = open(r'/datadrive/EM_testing/ExtractCustomFields/Saybolt_qnt_quality_documents/Quantity_doc/EU/COQ_GSV/FullReport1080200013282-ESSOITALIANAS.R.L.,E.Tamosaityte.text')\n",
    "doc = path2.readlines()\n",
    "final =  []\n",
    "final_1 = []\n",
    "for i in doc:\n",
    "    match = re.search('^Product\\s\\s+',i)\n",
    "    if match:\n",
    "        a = match.group()\n",
    "        lst = re.split('\\s\\s+',i)\n",
    "        final.append(lst[1])\n",
    "for j in final:\n",
    "    j = re.sub('\\n','',j)\n",
    "    final_1.append(j)\n",
    "final_1 = list(set(final_1))\n",
    "print(final_1)"
   ]
  },
  {
   "cell_type": "code",
   "execution_count": 35,
   "metadata": {},
   "outputs": [
    {
     "name": "stdout",
     "output_type": "stream",
     "text": [
      "['Naphtha Light Virgin']\n"
     ]
    }
   ],
   "source": [
    "\n",
    "# final =  []\n",
    "final_1 = []\n",
    "for i,line in enumerate(doc1):\n",
    "    # print(line)\n",
    "    if i==2 and len(line.strip())>0:\n",
    "        final_1.append(line.strip())\n",
    "print(final_1)"
   ]
  },
  {
   "cell_type": "code",
   "execution_count": 31,
   "metadata": {},
   "outputs": [],
   "source": [
    "import re\n",
    "def productname(doc):\n",
    "    final = []\n",
    "    final_1 =[]\n",
    "    for i,line in enumerate(doc):\n",
    "        match = re.search('^Product\\s\\s+',line)\n",
    "        if i<len(doc)-1:\n",
    "            match1 = re.search('\\s\\s+Certificate of Quantity',doc[i+1])\n",
    "        if match and match1:\n",
    "            # a = match.group()\n",
    "            lst = re.split('\\s\\s+',line)\n",
    "            final.append(lst[1])\n",
    "        else:\n",
    "            continue\n",
    "    for j in final:\n",
    "        j = re.sub('\\n','',j)\n",
    "        # print(j)\n",
    "        final_1.append(j)\n",
    "        # final_1 = list(set(final_1))\n",
    "        # print(final_1)\n",
    "        \n",
    "    print(final) \n",
    "    return final_1    \n",
    "        "
   ]
  },
  {
   "cell_type": "code",
   "execution_count": 33,
   "metadata": {},
   "outputs": [
    {
     "name": "stdout",
     "output_type": "stream",
     "text": [
      "['AP/E Core 100\\n', 'EHC 50\\n', 'EHC 120\\n', 'AP/E Core 600\\n']\n"
     ]
    },
    {
     "data": {
      "text/plain": [
       "['AP/E Core 100', 'EHC 50', 'EHC 120', 'AP/E Core 600']"
      ]
     },
     "execution_count": 33,
     "metadata": {},
     "output_type": "execute_result"
    }
   ],
   "source": [
    "path2 = open(r'/datadrive/EM_testing/ExtractCustomFields/Saybolt_qnt_quality_documents/Quantity_doc/EU/COQ/FullReport1040400024742-EXXONMOBILPETROLEUM&CHEMICALBV,C.Peij.text')\n",
    "doc1 = path2.readlines()\n",
    "productname(doc1)"
   ]
  },
  {
   "cell_type": "code",
   "execution_count": 11,
   "metadata": {},
   "outputs": [],
   "source": [
    "def productnamereport(doc):\n",
    "    final = []\n",
    "    final_1 =[]\n",
    "    for i,line in enumerate(doc):\n",
    "        match = re.search('^Product\\s\\s+',line)\n",
    "        if i<len(doc)-1:\n",
    "            match1 = re.search('\\s\\s+SUMMARY REPORT',doc[i+1])\n",
    "        if match and match1:\n",
    "            a = match1.group()\n",
    "            lst = re.split('\\s\\s+',line)\n",
    "            final.append(lst[1])\n",
    "        else:\n",
    "            continue\n",
    "    for j in final:\n",
    "        j = re.sub('\\n','',j)\n",
    "        final_1.append(j)\n",
    "        # final_1 = list(set(final_1))\n",
    "        # print(final_1)\n",
    "        \n",
    "            \n",
    "    return final_1    "
   ]
  },
  {
   "cell_type": "code",
   "execution_count": 10,
   "metadata": {},
   "outputs": [
    {
     "name": "stdout",
     "output_type": "stream",
     "text": [
      "List doc *****\n",
      " [[['Liters 15ºC', '8,295,201'], ['Cu m 60°F', '8,300.883'], ['Barrels 60°F', '52,210.98'], ['Gallons 60ºF', '2,192,861.16'], ['Metric Tons Vac', '6,122.731'], ['Metric Tons Air', '6,113.699'], ['Long Tons', '6,017.143'], ['Short Tons', '6,739.201'], ['Pounds', '13,478,401']]]\n",
      "[{'Cu m 60°F': 8300.883, 'Pounds': 13478401.0, 'Gallons': 2192861.16, 'Metric Tons': 6122.731, 'Long Tons': 6017.143, 'Short Tons': 6739.201, 'Liters': 8295201.0, 'Barrels': 52210.98}]\n"
     ]
    }
   ],
   "source": [
    "import re\n",
    "path = open(r'/datadrive/EM_testing/ExtractCustomFields/Saybolt_qnt_quality_documents/Quantity_doc/CHEM-US/Summary Report/MergedReport_EXXONMOBILCHEMICALCO_USEBARGARO-2102-0355242968_1305500046900_General_Inspection.text')\n",
    "doc  = path.readlines()\n",
    "\n",
    "lst = []\n",
    "dictlist =  []\n",
    "finaldictlist = []\n",
    "finaldictlist1 = []\n",
    "for i,line in enumerate(doc):\n",
    "    lines = []\n",
    "    search = re.search('\\s\\s+SUMMARY REPORT',line,re.IGNORECASE)\n",
    "    if search:\n",
    "        if search:\n",
    "                # print(' Yes search')\n",
    "                for j in range(i+5,len(doc)):\n",
    "                    search1 = re.search('\\s\\s+VESSEL QUANTITY RECEIVED',doc[j])\n",
    "                    if not search1:\n",
    "                        doc[j] = re.sub('\\n','',doc[j])\n",
    "                        doc[j] = re.sub('[:]','',doc[j])\n",
    "                        doc[j] = re.sub('\\s*(G.S.V.)\\s+','',doc[j])\n",
    "                        if len(doc[j].split())>0:\n",
    "                            doclst = re.split('\\s+[*]\\s+|\\s\\s+|\\s+[:]\\s+',doc[j])\n",
    "                            # print(doclst)\n",
    "                            lines.append(doclst)\n",
    "                        # print(doc[j])\n",
    "                    else:\n",
    "                        break\n",
    "                lst.append(lines)\n",
    "            \n",
    "\n",
    "print('List doc *****\\n',lst)\n",
    "\n",
    "for val in lst:\n",
    "        finaldict = {}\n",
    "        for line in val:\n",
    "            line[1] = re.sub(',','',line[1])\n",
    "            try:\n",
    "                finaldict[line[0]] = float(line[1])\n",
    "            except:\n",
    "                pass\n",
    "        # print('Finaldict ********',finaldict)\n",
    "        dictlist.append(finaldict)\n",
    "        \n",
    "for finaldict in dictlist:\n",
    "        unit = finaldict.keys()\n",
    "        values = finaldict.values()\n",
    "        units = []\n",
    "        val1  = []\n",
    "        valu = []\n",
    "        for i in values:\n",
    "            valu.append(i)\n",
    "\n",
    "        # print(valu)\n",
    "        for i in unit:\n",
    "            i = re.sub('\\s*[@]\\s*.*','',i)   \n",
    "            i = re.sub('Metric Tons.*','Metric Tons',i,re.IGNORECASE)\n",
    "            i = re.sub('Cubic meters.*','Cubic meters',i,re.IGNORECASE)\n",
    "            i = re.sub('Liters.*','Liters',i,re.IGNORECASE)\n",
    "            i = re.sub('(US Gallons).*','US Gallons',i,re.IGNORECASE)\n",
    "            i = re.sub('Gallons.*','Gallons',i,re.IGNORECASE)\n",
    "            i = re.sub('Barrels.*','Barrels',i,re.IGNORECASE)\n",
    "            i = re.sub('Kilos.*','Kilos',i,re.IGNORECASE)\n",
    "            units.append(i)\n",
    "\n",
    "        # print(units)\n",
    "        unit_1 = list(set(units))\n",
    "        # print(unit_1)\n",
    "\n",
    "        for i in unit_1:\n",
    "            # print(i)\n",
    "            val = []\n",
    "            for j in range(len(units)):\n",
    "                # print(i)\n",
    "                if units[j]==i:\n",
    "                    # index.append(j)\n",
    "                    val.append(valu[j])\n",
    "                    # print(valu[j])\n",
    "            # print('@@@@@@',val)\n",
    "            val1.append(max(val))    \n",
    "\n",
    "\n",
    "        # print(val1)\n",
    "        # print(unit_1)\n",
    "\n",
    "        for i in val1:\n",
    "            dict1 = dict(zip(unit_1,val1))\n",
    "        \n",
    "        finaldictlist.append(dict1)\n",
    "\n",
    "    prodname = productnamereport(doc)\n",
    "    # print(prodname)\n",
    "    for i,finaldict in enumerate(finaldictlist):\n",
    "        finaldict['ProductName'] = prodname[i]\n",
    "        finaldictlist1.append(finaldict)\n"
   ]
  },
  {
   "cell_type": "code",
   "execution_count": null,
   "metadata": {},
   "outputs": [],
   "source": []
  }
 ],
 "metadata": {
  "kernelspec": {
   "display_name": "hand_gpu",
   "language": "python",
   "name": "python3"
  },
  "language_info": {
   "codemirror_mode": {
    "name": "ipython",
    "version": 3
   },
   "file_extension": ".py",
   "mimetype": "text/x-python",
   "name": "python",
   "nbconvert_exporter": "python",
   "pygments_lexer": "ipython3",
   "version": "3.7.11"
  },
  "orig_nbformat": 4
 },
 "nbformat": 4,
 "nbformat_minor": 2
}
